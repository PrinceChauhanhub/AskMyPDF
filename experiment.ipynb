{
 "cells": [
  {
   "cell_type": "code",
   "execution_count": null,
   "id": "ecffcf73",
   "metadata": {},
   "outputs": [
    {
     "ename": "",
     "evalue": "",
     "output_type": "error",
     "traceback": [
      "\u001b[1;31mRunning cells with 'venv (Python 3.11.13)' requires the ipykernel package.\n",
      "\u001b[1;31mInstall 'ipykernel' into the Python environment. \n",
      "\u001b[1;31mCommand: 'conda install -p x:\\Gen AI Projects\\AskMyPDF\\venv ipykernel --update-deps --force-reinstall'"
     ]
    }
   ],
   "source": [
    "from langchain_community.document_loaders import PyPDFLoader\n",
    "from langchain_text_splitters import RecursiveCharacterTextSplitter\n",
    "from langchain_community.vectorstores import faiss\n",
    "from sentence_transformers import SentenceTransformer"
   ]
  },
  {
   "cell_type": "code",
   "execution_count": null,
   "id": "320cbb36",
   "metadata": {},
   "outputs": [],
   "source": [
    "model = SentenceTransformer('all-MiniLM-L6-v2')\n",
    "loader = PyPDFLoader('attention_is_all_u_need.pdf')\n",
    "text_doc = loader.load()\n",
    "# print(text_doc)"
   ]
  },
  {
   "cell_type": "code",
   "execution_count": null,
   "id": "f887afd2",
   "metadata": {},
   "outputs": [],
   "source": [
    "text_splitter = RecursiveCharacterTextSplitter(chunk_size = 100,chunk_overlap = 10)\n",
    "split_doc = text_splitter.split_documents(text_doc)"
   ]
  },
  {
   "cell_type": "code",
   "execution_count": null,
   "id": "ba44914a",
   "metadata": {},
   "outputs": [],
   "source": [
    "embeddings = model.encode(split_doc)\n",
    "print(embeddings[1])"
   ]
  },
  {
   "cell_type": "code",
   "execution_count": null,
   "id": "8b0608d9",
   "metadata": {},
   "outputs": [],
   "source": []
  }
 ],
 "metadata": {
  "kernelspec": {
   "display_name": "Python 3",
   "language": "python",
   "name": "python3"
  },
  "language_info": {
   "name": "python",
   "version": "3.10.0"
  }
 },
 "nbformat": 4,
 "nbformat_minor": 5
}
